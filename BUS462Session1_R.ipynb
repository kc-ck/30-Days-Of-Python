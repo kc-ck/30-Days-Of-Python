{
  "nbformat": 4,
  "nbformat_minor": 0,
  "metadata": {
    "colab": {
      "provenance": [],
      "authorship_tag": "ABX9TyOF+ZgQSH3iHwtw9Pt8JJMJ",
      "include_colab_link": true
    },
    "kernelspec": {
      "name": "ir",
      "display_name": "R"
    },
    "language_info": {
      "name": "R"
    }
  },
  "cells": [
    {
      "cell_type": "markdown",
      "metadata": {
        "id": "view-in-github",
        "colab_type": "text"
      },
      "source": [
        "<a href=\"https://colab.research.google.com/github/kc-ck/30-Days-Of-Python/blob/master/BUS462Session1_R.ipynb\" target=\"_parent\"><img src=\"https://colab.research.google.com/assets/colab-badge.svg\" alt=\"Open In Colab\"/></a>"
      ]
    },
    {
      "cell_type": "markdown",
      "source": [
        "\n",
        "# BUS 462 | Spring 2024 | Session 1\n",
        "## Getting Started with R\n",
        "### CK\n",
        "### 10 JAN 2024\n",
        "### REFERENCES / Attribution:\n",
        "#### (1) https://data.princeton.edu/R/gettingStarted ,\n",
        "#### (2) https://bookdown.org/animestina/R_Manchester/basic-principles-of-r-programming.html\n",
        "\n"
      ],
      "metadata": {
        "id": "da4nQ7EY4rrQ"
      }
    },
    {
      "cell_type": "markdown",
      "source": [
        "# Preamble"
      ],
      "metadata": {
        "id": "XrICnsKF48wA"
      }
    },
    {
      "cell_type": "markdown",
      "source": [
        "Anything starting with \"#\" means a comment ####\n",
        "\n",
        "- Remember to hit CTRL-ENTER to run code in editor or press the play icon\n",
        "- Hit enter to run code on console"
      ],
      "metadata": {
        "id": "FL0u9D4M5VPP"
      }
    },
    {
      "cell_type": "markdown",
      "source": [
        "# Expressions and Assignments"
      ],
      "metadata": {
        "id": "vhPdXZoD5og-"
      }
    },
    {
      "cell_type": "code",
      "source": [
        "### Arithmetic:: R works like a calculator, you type an expression and get the answer:\n",
        "1 + 2"
      ],
      "metadata": {
        "id": "e8Ox3sUn4s-N"
      },
      "execution_count": null,
      "outputs": []
    },
    {
      "cell_type": "code",
      "source": [
        "# The standard arithmetic operators are +, -, *, /, and ^ for add, subtract, multiply, divide, and  exp\n",
        "#These operators have the standard BODMAS precedence\n",
        "2^3\n"
      ],
      "metadata": {
        "id": "te-dRtFK5m2A"
      },
      "execution_count": null,
      "outputs": []
    },
    {
      "cell_type": "code",
      "source": [
        "# You can use standard mathematical functions, such as sqrt(), exp(), and log().\n",
        "# For example\n",
        "log(0.3/(1 - 0.3))\n"
      ],
      "metadata": {
        "colab": {
          "base_uri": "https://localhost:8080/",
          "height": 34
        },
        "id": "LbiZfLwT5yux",
        "outputId": "fb9a33e2-79c3-41d6-8863-6d87138a9bfa"
      },
      "execution_count": 4,
      "outputs": [
        {
          "output_type": "display_data",
          "data": {
            "text/html": [
              "-0.847297860387204"
            ],
            "text/markdown": "-0.847297860387204",
            "text/latex": "-0.847297860387204",
            "text/plain": [
              "[1] -0.8472979"
            ]
          },
          "metadata": {}
        }
      ]
    },
    {
      "cell_type": "markdown",
      "source": [
        "## Assignments\n",
        "\n",
        "Assigning values to variables are done by <- or ="
      ],
      "metadata": {
        "id": "ENTCtpk753yb"
      }
    },
    {
      "cell_type": "code",
      "source": [
        "x <- 1    # creating an object x and assigning value of 1\n",
        "# x is now a vector object of class (data type) numeric with a single element with value 1"
      ],
      "metadata": {
        "id": "2-3m6wUv52TX"
      },
      "execution_count": 5,
      "outputs": []
    },
    {
      "cell_type": "code",
      "source": [
        "x"
      ],
      "metadata": {
        "id": "-XTFsjfp7F__"
      },
      "execution_count": null,
      "outputs": []
    },
    {
      "cell_type": "code",
      "source": [
        "print(x)"
      ],
      "metadata": {
        "id": "cqYqV22O7m6T"
      },
      "execution_count": null,
      "outputs": []
    },
    {
      "cell_type": "code",
      "source": [
        "class(x) # see the class of x"
      ],
      "metadata": {
        "id": "_g9hQKFr7tWM"
      },
      "execution_count": null,
      "outputs": []
    },
    {
      "cell_type": "code",
      "source": [
        "is.vector(x) # checks if x is a vector class object"
      ],
      "metadata": {
        "id": "uChL7nGF7vNI"
      },
      "execution_count": null,
      "outputs": []
    },
    {
      "cell_type": "code",
      "source": [
        "is.character(x)"
      ],
      "metadata": {
        "id": "dIrkN0v27w62"
      },
      "execution_count": null,
      "outputs": []
    },
    {
      "cell_type": "code",
      "source": [
        "# you can now operate on x, # just like excel\n",
        "x+5\n",
        "x <- x+1 # operating value of x"
      ],
      "metadata": {
        "id": "3JhcpuV170nX"
      },
      "execution_count": null,
      "outputs": []
    },
    {
      "cell_type": "code",
      "source": [
        "y = 2 # Assign value 2 to another object"
      ],
      "metadata": {
        "id": "vz3Y_8cc8DnX"
      },
      "execution_count": 18,
      "outputs": []
    },
    {
      "cell_type": "code",
      "source": [
        "z <- x + y # create a new object that is the sum of vectors x and y"
      ],
      "metadata": {
        "id": "8DNFUfbR8P_J"
      },
      "execution_count": 20,
      "outputs": []
    },
    {
      "cell_type": "code",
      "source": [
        "x\n",
        "y\n",
        "z"
      ],
      "metadata": {
        "id": "5D6B8U5h8jAF"
      },
      "execution_count": null,
      "outputs": []
    },
    {
      "cell_type": "code",
      "source": [
        "# is z a vector?\n",
        "is.vector(z) #  YES - [1] TRUE"
      ],
      "metadata": {
        "colab": {
          "base_uri": "https://localhost:8080/",
          "height": 34
        },
        "id": "EryYxtLC8Tl1",
        "outputId": "c926b894-e615-4cf6-f532-52f5b585bfce"
      },
      "execution_count": 21,
      "outputs": [
        {
          "output_type": "display_data",
          "data": {
            "text/html": [
              "TRUE"
            ],
            "text/markdown": "TRUE",
            "text/latex": "TRUE",
            "text/plain": [
              "[1] TRUE"
            ]
          },
          "metadata": {}
        }
      ]
    },
    {
      "cell_type": "code",
      "source": [
        "#console print\n",
        "z"
      ],
      "metadata": {
        "id": "04A6Z0mX8U_H"
      },
      "execution_count": null,
      "outputs": []
    },
    {
      "cell_type": "code",
      "source": [
        "### LOGIC Operations ::   < > <= >= == != |-OR  &-and\n",
        "x>y\n",
        "x>=y\n",
        "x<y\n",
        "z==y # note that == is different than ="
      ],
      "metadata": {
        "colab": {
          "base_uri": "https://localhost:8080/",
          "height": 86
        },
        "id": "IH8SpMc48gQq",
        "outputId": "17e05f4f-a047-4afa-80cc-121129869eb5"
      },
      "execution_count": 26,
      "outputs": [
        {
          "output_type": "display_data",
          "data": {
            "text/html": [
              "TRUE"
            ],
            "text/markdown": "TRUE",
            "text/latex": "TRUE",
            "text/plain": [
              "[1] TRUE"
            ]
          },
          "metadata": {}
        },
        {
          "output_type": "display_data",
          "data": {
            "text/html": [
              "TRUE"
            ],
            "text/markdown": "TRUE",
            "text/latex": "TRUE",
            "text/plain": [
              "[1] TRUE"
            ]
          },
          "metadata": {}
        },
        {
          "output_type": "display_data",
          "data": {
            "text/html": [
              "FALSE"
            ],
            "text/markdown": "FALSE",
            "text/latex": "FALSE",
            "text/plain": [
              "[1] FALSE"
            ]
          },
          "metadata": {}
        },
        {
          "output_type": "display_data",
          "data": {
            "text/html": [
              "FALSE"
            ],
            "text/markdown": "FALSE",
            "text/latex": "FALSE",
            "text/plain": [
              "[1] FALSE"
            ]
          },
          "metadata": {}
        }
      ]
    }
  ]
}